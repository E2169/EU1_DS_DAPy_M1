{
 "cells": [
  {
   "cell_type": "markdown",
   "metadata": {},
   "source": [
    "___\n",
    "\n",
    "<p style=\"text-align: center;\"><img src=\"https://docs.google.com/uc?id=1lY0Uj5R04yMY3-ZppPWxqCr5pvBLYPnV\" class=\"img-fluid\" alt=\"CLRSWY\"></p>\n",
    "\n",
    "___"
   ]
  },
  {
   "cell_type": "markdown",
   "metadata": {},
   "source": [
    "<h1><p style=\"text-align: center;\">Data Analysis with Python <br>Project - 1</p><h1> - Traffic Police Stops <img src=\"https://docs.google.com/uc?id=17CPCwi3_VvzcS87TOsh4_U8eExOhL6Ki\" class=\"img-fluid\" alt=\"CLRSWY\" width=\"200\" height=\"100\"> "
   ]
  },
  {
   "cell_type": "markdown",
   "metadata": {},
   "source": [
    "Are you more likely to get arrested at a certain time of day? Are drug-related stops on the rise? In this chapter, you will answer these and other questions by analyzing the dataset visually, since plots can help you to understand trends in a way that examining the raw data cannot."
   ]
  },
  {
   "cell_type": "markdown",
   "metadata": {},
   "source": [
    "## Calculating the hourly arrest rate"
   ]
  },
  {
   "cell_type": "markdown",
   "metadata": {},
   "source": [
    "When a police officer stops a driver, a small percentage of those stops ends in an arrest. This is known as the **arrest rate**. In this exercise, you'll find out whether the arrest rate varies by time of day.\n",
    "\n",
    "First, you'll calculate the arrest rate across all stops. Then, you'll calculate the **hourly arrest rate** by using the ``hour`` attribute of the ``index``. The hour ranges from ``0`` to ``23``, in which:\n",
    "\n",
    "``0 = midnight``<br>\n",
    "``12 = noon`` <br>\n",
    "``23 = 11 PM``"
   ]
  },
  {
   "cell_type": "markdown",
   "metadata": {},
   "source": [
    "> Before starting your work in this section **repeat the steps which you did in the first chapter for preparing the data.** Continue to this chapter based on where you were in the end of the first chapter."
   ]
  },
  {
   "cell_type": "markdown",
   "metadata": {},
   "source": [
    "**INSTRUCTIONS**\n",
    "\n",
    "*   Take the mean of the ``is_arrested`` column to calculate the overall arrest rate.\n",
    "*   Group by the ``hour`` attribute of the ``DataFrame`` index to calculate the hourly arrest rate.\n",
    "*   Save the **hourly arrest rate** ``Series`` as a new object, ``hourly_arrest_rate``."
   ]
  },
  {
   "cell_type": "code",
   "execution_count": 1,
   "metadata": {},
   "outputs": [],
   "source": [
    "import pandas as pd\n",
    "import numpy as np\n",
    "import re\n",
    "\n",
    "ri = pd.read_csv('police.csv', engine='python').sample(50000, random_state=101)\n",
    "\n",
    "ri.drop(['county_name', 'county_fips', 'fine_grained_location', 'state'], axis=1, inplace=True)\n",
    "\n",
    "ri.dropna(subset=['driver_gender'], inplace=True)\n",
    "\n",
    "ri['is_arrested'] = ri['is_arrested'].astype({'is_arrested': 'bool'})\n",
    "\n",
    "ri['stop_datetime'] = ri['stop_date'] + ' ' + ri['stop_time']\n",
    "ri['stop_datetime'] = pd.to_datetime(ri['stop_datetime'])\n",
    "\n",
    "ri.set_index('stop_datetime', inplace=True)"
   ]
  },
  {
   "cell_type": "code",
   "execution_count": 2,
   "metadata": {},
   "outputs": [
    {
     "data": {
      "text/plain": [
       "0.0347816871555744"
      ]
     },
     "execution_count": 2,
     "metadata": {},
     "output_type": "execute_result"
    }
   ],
   "source": [
    "ri['is_arrested'].mean()"
   ]
  },
  {
   "cell_type": "code",
   "execution_count": 5,
   "metadata": {},
   "outputs": [
    {
     "data": {
      "text/plain": [
       "False    0.965218\n",
       "True     0.034782\n",
       "Name: is_arrested, dtype: float64"
      ]
     },
     "execution_count": 5,
     "metadata": {},
     "output_type": "execute_result"
    }
   ],
   "source": [
    "ri['is_arrested'].value_counts(normalize=True)"
   ]
  },
  {
   "cell_type": "code",
   "execution_count": 3,
   "metadata": {
    "scrolled": true
   },
   "outputs": [
    {
     "data": {
      "text/plain": [
       "0.03603504688289159"
      ]
     },
     "execution_count": 3,
     "metadata": {},
     "output_type": "execute_result"
    }
   ],
   "source": [
    "sum((ri['is_arrested'] == True)) / sum((ri['is_arrested'] == False))"
   ]
  },
  {
   "cell_type": "code",
   "execution_count": 54,
   "metadata": {},
   "outputs": [
    {
     "data": {
      "text/plain": [
       "stop_datetime  is_arrested\n",
       "0              False          0.954006\n",
       "               True           0.045994\n",
       "1              False          0.934521\n",
       "               True           0.065479\n",
       "2              False          0.934874\n",
       "               True           0.065126\n",
       "3              False          0.947811\n",
       "               True           0.052189\n",
       "4              False          0.968992\n",
       "               True           0.031008\n",
       "5              False          0.990291\n",
       "               True           0.009709\n",
       "6              False          0.985482\n",
       "               True           0.014518\n",
       "7              False          0.983655\n",
       "               True           0.016345\n",
       "8              False          0.982298\n",
       "               True           0.017702\n",
       "9              False          0.973239\n",
       "               True           0.026761\n",
       "10             False          0.973759\n",
       "               True           0.026241\n",
       "11             False          0.972545\n",
       "               True           0.027455\n",
       "12             False          0.968767\n",
       "               True           0.031233\n",
       "13             False          0.972403\n",
       "               True           0.027597\n",
       "14             False          0.967060\n",
       "               True           0.032940\n",
       "15             False          0.961761\n",
       "               True           0.038239\n",
       "16             False          0.966976\n",
       "               True           0.033024\n",
       "17             False          0.959754\n",
       "               True           0.040246\n",
       "18             False          0.962829\n",
       "               True           0.037171\n",
       "19             False          0.976354\n",
       "               True           0.023646\n",
       "20             False          0.954851\n",
       "               True           0.045149\n",
       "21             False          0.938859\n",
       "               True           0.061141\n",
       "22             False          0.959557\n",
       "               True           0.040443\n",
       "23             False          0.951618\n",
       "               True           0.048382\n",
       "Name: is_arrested, dtype: float64"
      ]
     },
     "execution_count": 54,
     "metadata": {},
     "output_type": "execute_result"
    }
   ],
   "source": [
    "ri.groupby(ri.index.hour)['is_arrested'].value_counts(normalize=True)"
   ]
  },
  {
   "cell_type": "code",
   "execution_count": 55,
   "metadata": {},
   "outputs": [],
   "source": [
    "hourly_arrest_rate = ri.groupby(ri.index.hour)['is_arrested'].value_counts(normalize=True)"
   ]
  },
  {
   "cell_type": "markdown",
   "metadata": {},
   "source": [
    "***"
   ]
  },
  {
   "cell_type": "markdown",
   "metadata": {},
   "source": [
    "## Plotting the hourly arrest rate"
   ]
  },
  {
   "cell_type": "markdown",
   "metadata": {},
   "source": [
    "You'll create a line plot from the ``hourly_arrest_rate`` object. A line plot is appropriate in this case because you're showing how a quantity changes over time.\n",
    "\n",
    "This plot should help you to spot some trends that may not have been obvious when examining the raw numbers!"
   ]
  },
  {
   "cell_type": "markdown",
   "metadata": {},
   "source": [
    "**INSTRUCTIONS**\n",
    "\n",
    "*   Import ``matplotlib.pyplot`` using the alias ``plt``.\n",
    "*   Create a **line plot** of ``hourly_arrest_rate`` using the ``.plot()`` method.\n",
    "*   Label the ``x-axis`` as ``'Hour'``, label the ``y-axis`` as ``'Arrest Rate'``, and title the plot ``'Arrest Rate by Time of Day'``.\n",
    "*   Display the plot using the ``.show()`` function."
   ]
  },
  {
   "cell_type": "code",
   "execution_count": 9,
   "metadata": {},
   "outputs": [],
   "source": [
    "import matplotlib.pyplot as plt"
   ]
  },
  {
   "cell_type": "code",
   "execution_count": 10,
   "metadata": {},
   "outputs": [
    {
     "data": {
      "text/plain": [
       "count    48.000000\n",
       "mean      0.500000\n",
       "std       0.469419\n",
       "min       0.009709\n",
       "25%       0.033003\n",
       "50%       0.500000\n",
       "75%       0.966997\n",
       "max       0.990291\n",
       "Name: is_arrested, dtype: float64"
      ]
     },
     "execution_count": 10,
     "metadata": {},
     "output_type": "execute_result"
    }
   ],
   "source": [
    "hourly_arrest_rate.describe()"
   ]
  },
  {
   "cell_type": "code",
   "execution_count": 11,
   "metadata": {},
   "outputs": [
    {
     "data": {
      "text/html": [
       "<div>\n",
       "<style scoped>\n",
       "    .dataframe tbody tr th:only-of-type {\n",
       "        vertical-align: middle;\n",
       "    }\n",
       "\n",
       "    .dataframe tbody tr th {\n",
       "        vertical-align: top;\n",
       "    }\n",
       "\n",
       "    .dataframe thead th {\n",
       "        text-align: right;\n",
       "    }\n",
       "</style>\n",
       "<table border=\"1\" class=\"dataframe\">\n",
       "  <thead>\n",
       "    <tr style=\"text-align: right;\">\n",
       "      <th></th>\n",
       "      <th>is_arrested</th>\n",
       "    </tr>\n",
       "    <tr>\n",
       "      <th>stop_datetime</th>\n",
       "      <th></th>\n",
       "    </tr>\n",
       "  </thead>\n",
       "  <tbody>\n",
       "    <tr>\n",
       "      <th>0</th>\n",
       "      <td>0.045994</td>\n",
       "    </tr>\n",
       "    <tr>\n",
       "      <th>1</th>\n",
       "      <td>0.065479</td>\n",
       "    </tr>\n",
       "    <tr>\n",
       "      <th>2</th>\n",
       "      <td>0.065126</td>\n",
       "    </tr>\n",
       "    <tr>\n",
       "      <th>3</th>\n",
       "      <td>0.052189</td>\n",
       "    </tr>\n",
       "    <tr>\n",
       "      <th>4</th>\n",
       "      <td>0.031008</td>\n",
       "    </tr>\n",
       "  </tbody>\n",
       "</table>\n",
       "</div>"
      ],
      "text/plain": [
       "               is_arrested\n",
       "stop_datetime             \n",
       "0                 0.045994\n",
       "1                 0.065479\n",
       "2                 0.065126\n",
       "3                 0.052189\n",
       "4                 0.031008"
      ]
     },
     "execution_count": 11,
     "metadata": {},
     "output_type": "execute_result"
    }
   ],
   "source": [
    "hourly_arrest_df = pd.DataFrame(hourly_arrest_rate)\n",
    "hourly_arrest_df.head()\n",
    "hourly_arrest_df = hourly_arrest_df.xs(True, level='is_arrested')\n",
    "hourly_arrest_df.head()"
   ]
  },
  {
   "cell_type": "code",
   "execution_count": 47,
   "metadata": {},
   "outputs": [
    {
     "data": {
      "image/png": "[encoded data removed]",
      "text/plain": [
       "<Figure size 432x288 with 1 Axes>"
      ]
     },
     "metadata": {
      "needs_background": "light"
     },
     "output_type": "display_data"
    }
   ],
   "source": [
    "fig1=hourly_arrest_df.plot(title='Arrest Rate by Time of Date', xticks=range(0,24,2))\n",
    "fig1.set_xlabel('Hour')\n",
    "fig1.set_ylabel('Arrest Rate')\n",
    "plt.show()"
   ]
  },
  {
   "cell_type": "markdown",
   "metadata": {},
   "source": [
    "***"
   ]
  },
  {
   "cell_type": "markdown",
   "metadata": {},
   "source": [
    "## Plotting drug-related stops"
   ]
  },
  {
   "cell_type": "markdown",
   "metadata": {},
   "source": [
    "In a small portion of traffic stops, drugs are found in the vehicle during a search. You'll assess whether these **drug-related stops** are becoming more common over time.\n",
    "\n",
    "The Boolean column ``drugs_related_stop`` indicates whether drugs were found during a given stop. You'll calculate the **annual drug rate** by **resampling** this column, and then you'll use a line plot to visualize how the rate has changed over time."
   ]
  },
  {
   "cell_type": "markdown",
   "metadata": {},
   "source": [
    "**INSTRUCTIONS**\n",
    "\n",
    "*   Calculate the **annual rate** of drug-related stops by **resampling** the ``drugs_related_stop`` column (on the ``'A'`` frequency) and taking the mean.\n",
    "*   Save the annual drug rate ``Series`` as a new object, ``annual_drug_rate``.\n",
    "*   Create a line plot of ``annual_drug_rate`` using the ``.plot()`` method.\n",
    "*   Display the plot using the ``.show()`` function."
   ]
  },
  {
   "cell_type": "code",
   "execution_count": 127,
   "metadata": {},
   "outputs": [
    {
     "data": {
      "text/plain": [
       "stop_datetime  drugs_related_stop\n",
       "2005           False                 1356\n",
       "               True                    14\n",
       "2006           False                 5459\n",
       "               True                    40\n",
       "2007           False                 4957\n",
       "Name: drugs_related_stop, dtype: int64"
      ]
     },
     "execution_count": 127,
     "metadata": {},
     "output_type": "execute_result"
    }
   ],
   "source": [
    "#annual_drug_rate = ri.groupby(ri.index.year)['drugs_related_stop'].value_counts(normalize=False)\n",
    "annual_drug_rate.head(5)"
   ]
  },
  {
   "cell_type": "code",
   "execution_count": 155,
   "metadata": {},
   "outputs": [
    {
     "data": {
      "text/plain": [
       "stop_datetime  drugs_related_stop\n",
       "2005           False                 0.989781\n",
       "               True                  0.010219\n",
       "2006           False                 0.992726\n",
       "               True                  0.007274\n",
       "2007           False                 0.987450\n",
       "Name: drugs_related_stop, dtype: float64"
      ]
     },
     "execution_count": 155,
     "metadata": {},
     "output_type": "execute_result"
    }
   ],
   "source": [
    "annual_drug_rate = ri.groupby(ri.index.year)['drugs_related_stop'].value_counts(normalize=True)\n",
    "annual_drug_rate.head(5)"
   ]
  },
  {
   "cell_type": "code",
   "execution_count": 156,
   "metadata": {},
   "outputs": [
    {
     "data": {
      "text/html": [
       "<div>\n",
       "<style scoped>\n",
       "    .dataframe tbody tr th:only-of-type {\n",
       "        vertical-align: middle;\n",
       "    }\n",
       "\n",
       "    .dataframe tbody tr th {\n",
       "        vertical-align: top;\n",
       "    }\n",
       "\n",
       "    .dataframe thead th {\n",
       "        text-align: right;\n",
       "    }\n",
       "</style>\n",
       "<table border=\"1\" class=\"dataframe\">\n",
       "  <thead>\n",
       "    <tr style=\"text-align: right;\">\n",
       "      <th></th>\n",
       "      <th>drugs_related_stop</th>\n",
       "    </tr>\n",
       "  </thead>\n",
       "  <tbody>\n",
       "    <tr>\n",
       "      <th>count</th>\n",
       "      <td>11.000000</td>\n",
       "    </tr>\n",
       "    <tr>\n",
       "      <th>mean</th>\n",
       "      <td>0.010631</td>\n",
       "    </tr>\n",
       "    <tr>\n",
       "      <th>std</th>\n",
       "      <td>0.002362</td>\n",
       "    </tr>\n",
       "    <tr>\n",
       "      <th>min</th>\n",
       "      <td>0.005704</td>\n",
       "    </tr>\n",
       "    <tr>\n",
       "      <th>25%</th>\n",
       "      <td>0.009864</td>\n",
       "    </tr>\n",
       "    <tr>\n",
       "      <th>50%</th>\n",
       "      <td>0.011448</td>\n",
       "    </tr>\n",
       "    <tr>\n",
       "      <th>75%</th>\n",
       "      <td>0.012542</td>\n",
       "    </tr>\n",
       "    <tr>\n",
       "      <th>max</th>\n",
       "      <td>0.012914</td>\n",
       "    </tr>\n",
       "  </tbody>\n",
       "</table>\n",
       "</div>"
      ],
      "text/plain": [
       "       drugs_related_stop\n",
       "count           11.000000\n",
       "mean             0.010631\n",
       "std              0.002362\n",
       "min              0.005704\n",
       "25%              0.009864\n",
       "50%              0.011448\n",
       "75%              0.012542\n",
       "max              0.012914"
      ]
     },
     "execution_count": 156,
     "metadata": {},
     "output_type": "execute_result"
    }
   ],
   "source": [
    "annual_drug_df = pd.DataFrame(annual_drug_rate)\n",
    "annual_drug_df = annual_drug_df.xs(True, level='drugs_related_stop')\n",
    "annual_drug_df.describe()"
   ]
  },
  {
   "cell_type": "code",
   "execution_count": 157,
   "metadata": {},
   "outputs": [
    {
     "data": {
      "image/png": "[encoded data removed]",
      "text/plain": [
       "<Figure size 432x288 with 1 Axes>"
      ]
     },
     "metadata": {
      "needs_background": "light"
     },
     "output_type": "display_data"
    }
   ],
   "source": [
    "fig2=annual_drug_df.plot(title='Annual Drug Related Stops', xticks=range(2005,2016))\n",
    "fig2.set_xlabel('Year')\n",
    "fig2.set_ylabel('Drug Related Stop Rate')\n",
    "plt.show()"
   ]
  },
  {
   "cell_type": "markdown",
   "metadata": {},
   "source": [
    "***"
   ]
  },
  {
   "cell_type": "markdown",
   "metadata": {},
   "source": [
    "## Comparing drug and search rates (to be deleted)"
   ]
  },
  {
   "cell_type": "markdown",
   "metadata": {},
   "source": [
    "As you saw in the last exercise, the rate of **drug-related stops** increased significantly between ``2005`` and ``2015``. You might hypothesize that the rate of vehicle searches was also increasing, which would have led to an increase in drug-related stops even if more drivers were not carrying drugs.\n",
    "\n",
    "You can test this hypothesis by calculating the annual search rate, and then plotting it against the annual drug rate. If the hypothesis is true, then you'll see both rates increasing over time."
   ]
  },
  {
   "cell_type": "markdown",
   "metadata": {},
   "source": [
    "**INSTRUCTIONS**\n",
    "\n",
    "*   Calculate the annual search rate by **resampling** the ``search_conducted`` column, and save the result as ``annual_search_rate``.\n",
    "*   Concatenate ``annual_drug_rate`` and ``annual_search_rate`` along the ``columns axis``, and save the result as ``annual``.\n",
    "*   Create subplots of the drug and search rates from the ``annual`` ``DataFrame``.\n",
    "*   Display the subplots."
   ]
  },
  {
   "cell_type": "code",
   "execution_count": 158,
   "metadata": {},
   "outputs": [],
   "source": [
    "#annual_search_rate = ri.groupby(ri.index.year)['search_conducted'].value_counts(normalize=False)"
   ]
  },
  {
   "cell_type": "code",
   "execution_count": 159,
   "metadata": {},
   "outputs": [],
   "source": [
    "annual_search_rate = ri.groupby(ri.index.year)['search_conducted'].value_counts(normalize=True)"
   ]
  },
  {
   "cell_type": "code",
   "execution_count": 160,
   "metadata": {},
   "outputs": [
    {
     "data": {
      "text/plain": [
       "dtype('float64')"
      ]
     },
     "execution_count": 160,
     "metadata": {},
     "output_type": "execute_result"
    }
   ],
   "source": [
    "annual_search_rate.dtype"
   ]
  },
  {
   "cell_type": "code",
   "execution_count": 161,
   "metadata": {},
   "outputs": [
    {
     "data": {
      "text/plain": [
       "stop_datetime  search_conducted\n",
       "2005           False               0.948175\n",
       "               True                0.051825\n",
       "2006           False               0.962357\n",
       "               True                0.037643\n",
       "2007           False               0.952390\n",
       "Name: search_conducted, dtype: float64"
      ]
     },
     "execution_count": 161,
     "metadata": {},
     "output_type": "execute_result"
    }
   ],
   "source": [
    "annual_search_rate.head()"
   ]
  },
  {
   "cell_type": "code",
   "execution_count": 162,
   "metadata": {},
   "outputs": [
    {
     "data": {
      "text/html": [
       "<div>\n",
       "<style scoped>\n",
       "    .dataframe tbody tr th:only-of-type {\n",
       "        vertical-align: middle;\n",
       "    }\n",
       "\n",
       "    .dataframe tbody tr th {\n",
       "        vertical-align: top;\n",
       "    }\n",
       "\n",
       "    .dataframe thead th {\n",
       "        text-align: right;\n",
       "    }\n",
       "</style>\n",
       "<table border=\"1\" class=\"dataframe\">\n",
       "  <thead>\n",
       "    <tr style=\"text-align: right;\">\n",
       "      <th></th>\n",
       "      <th>search_conducted</th>\n",
       "    </tr>\n",
       "  </thead>\n",
       "  <tbody>\n",
       "    <tr>\n",
       "      <th>count</th>\n",
       "      <td>11.000000</td>\n",
       "    </tr>\n",
       "    <tr>\n",
       "      <th>mean</th>\n",
       "      <td>0.038727</td>\n",
       "    </tr>\n",
       "    <tr>\n",
       "      <th>std</th>\n",
       "      <td>0.009077</td>\n",
       "    </tr>\n",
       "    <tr>\n",
       "      <th>min</th>\n",
       "      <td>0.025647</td>\n",
       "    </tr>\n",
       "    <tr>\n",
       "      <th>25%</th>\n",
       "      <td>0.032659</td>\n",
       "    </tr>\n",
       "    <tr>\n",
       "      <th>50%</th>\n",
       "      <td>0.037643</td>\n",
       "    </tr>\n",
       "    <tr>\n",
       "      <th>75%</th>\n",
       "      <td>0.046169</td>\n",
       "    </tr>\n",
       "    <tr>\n",
       "      <th>max</th>\n",
       "      <td>0.051825</td>\n",
       "    </tr>\n",
       "  </tbody>\n",
       "</table>\n",
       "</div>"
      ],
      "text/plain": [
       "       search_conducted\n",
       "count         11.000000\n",
       "mean           0.038727\n",
       "std            0.009077\n",
       "min            0.025647\n",
       "25%            0.032659\n",
       "50%            0.037643\n",
       "75%            0.046169\n",
       "max            0.051825"
      ]
     },
     "execution_count": 162,
     "metadata": {},
     "output_type": "execute_result"
    }
   ],
   "source": [
    "annual_search_df = pd.DataFrame(annual_search_rate)\n",
    "annual_search_df = annual_search_df.xs(True, level='search_conducted')\n",
    "annual_search_df.describe()"
   ]
  },
  {
   "cell_type": "code",
   "execution_count": 163,
   "metadata": {},
   "outputs": [
    {
     "data": {
      "text/plain": [
       "stop_datetime  drugs_related_stop\n",
       "2005           False                 0.989781\n",
       "               True                  0.010219\n",
       "2006           False                 0.992726\n",
       "               True                  0.007274\n",
       "2007           False                 0.987450\n",
       "Name: drugs_related_stop, dtype: float64"
      ]
     },
     "execution_count": 163,
     "metadata": {},
     "output_type": "execute_result"
    }
   ],
   "source": [
    "annual_drug_rate.head()"
   ]
  },
  {
   "cell_type": "code",
   "execution_count": 164,
   "metadata": {},
   "outputs": [],
   "source": [
    "annual = pd.concat([annual_search_rate, annual_drug_rate], axis=1)"
   ]
  },
  {
   "cell_type": "code",
   "execution_count": 165,
   "metadata": {},
   "outputs": [
    {
     "data": {
      "text/html": [
       "<div>\n",
       "<style scoped>\n",
       "    .dataframe tbody tr th:only-of-type {\n",
       "        vertical-align: middle;\n",
       "    }\n",
       "\n",
       "    .dataframe tbody tr th {\n",
       "        vertical-align: top;\n",
       "    }\n",
       "\n",
       "    .dataframe thead th {\n",
       "        text-align: right;\n",
       "    }\n",
       "</style>\n",
       "<table border=\"1\" class=\"dataframe\">\n",
       "  <thead>\n",
       "    <tr style=\"text-align: right;\">\n",
       "      <th></th>\n",
       "      <th></th>\n",
       "      <th>search_conducted</th>\n",
       "      <th>drugs_related_stop</th>\n",
       "    </tr>\n",
       "    <tr>\n",
       "      <th>stop_datetime</th>\n",
       "      <th>search_conducted</th>\n",
       "      <th></th>\n",
       "      <th></th>\n",
       "    </tr>\n",
       "  </thead>\n",
       "  <tbody>\n",
       "    <tr>\n",
       "      <th rowspan=\"2\" valign=\"top\">2005</th>\n",
       "      <th>False</th>\n",
       "      <td>0.948175</td>\n",
       "      <td>0.989781</td>\n",
       "    </tr>\n",
       "    <tr>\n",
       "      <th>True</th>\n",
       "      <td>0.051825</td>\n",
       "      <td>0.010219</td>\n",
       "    </tr>\n",
       "    <tr>\n",
       "      <th rowspan=\"2\" valign=\"top\">2006</th>\n",
       "      <th>False</th>\n",
       "      <td>0.962357</td>\n",
       "      <td>0.992726</td>\n",
       "    </tr>\n",
       "    <tr>\n",
       "      <th>True</th>\n",
       "      <td>0.037643</td>\n",
       "      <td>0.007274</td>\n",
       "    </tr>\n",
       "    <tr>\n",
       "      <th>2007</th>\n",
       "      <th>False</th>\n",
       "      <td>0.952390</td>\n",
       "      <td>0.987450</td>\n",
       "    </tr>\n",
       "  </tbody>\n",
       "</table>\n",
       "</div>"
      ],
      "text/plain": [
       "                                search_conducted  drugs_related_stop\n",
       "stop_datetime search_conducted                                      \n",
       "2005          False                     0.948175            0.989781\n",
       "              True                      0.051825            0.010219\n",
       "2006          False                     0.962357            0.992726\n",
       "              True                      0.037643            0.007274\n",
       "2007          False                     0.952390            0.987450"
      ]
     },
     "execution_count": 165,
     "metadata": {},
     "output_type": "execute_result"
    }
   ],
   "source": [
    "annual.head()"
   ]
  },
  {
   "cell_type": "code",
   "execution_count": 166,
   "metadata": {},
   "outputs": [],
   "source": [
    "annual = annual.xs(1, level = 1)"
   ]
  },
  {
   "cell_type": "code",
   "execution_count": 168,
   "metadata": {},
   "outputs": [
    {
     "data": {
      "text/plain": [
       "<matplotlib.axes._subplots.AxesSubplot at 0x7fa0cc700590>"
      ]
     },
     "execution_count": 168,
     "metadata": {},
     "output_type": "execute_result"
    },
    {
     "data": {
      "image/png": "[encoded data removed]",
      "text/plain": [
       "<Figure size 864x432 with 1 Axes>"
      ]
     },
     "metadata": {
      "needs_background": "light"
     },
     "output_type": "display_data"
    }
   ],
   "source": [
    "annual.plot(title= 'Annual Search and Drug Comparison', figsize=(12,6))"
   ]
  },
  {
   "cell_type": "code",
   "execution_count": 169,
   "metadata": {},
   "outputs": [
    {
     "data": {
      "text/plain": [
       "<matplotlib.axes._subplots.AxesSubplot at 0x7fa0cca03ad0>"
      ]
     },
     "execution_count": 169,
     "metadata": {},
     "output_type": "execute_result"
    },
    {
     "data": {
      "image/png": "[encoded data removed]",
      "text/plain": [
       "<Figure size 864x432 with 1 Axes>"
      ]
     },
     "metadata": {
      "needs_background": "light"
     },
     "output_type": "display_data"
    }
   ],
   "source": [
    "annual.plot.bar(title= 'Annual Search and Drug Comparison', figsize=(12,6))"
   ]
  },
  {
   "cell_type": "markdown",
   "metadata": {},
   "source": [
    "It can easily seen that vehicle searches decrease while drug_related_stops increase."
   ]
  },
  {
   "cell_type": "code",
   "execution_count": null,
   "metadata": {},
   "outputs": [],
   "source": []
  },
  {
   "cell_type": "code",
   "execution_count": 151,
   "metadata": {},
   "outputs": [
    {
     "data": {
      "text/html": [
       "<div>\n",
       "<style scoped>\n",
       "    .dataframe tbody tr th:only-of-type {\n",
       "        vertical-align: middle;\n",
       "    }\n",
       "\n",
       "    .dataframe tbody tr th {\n",
       "        vertical-align: top;\n",
       "    }\n",
       "\n",
       "    .dataframe thead th {\n",
       "        text-align: right;\n",
       "    }\n",
       "</style>\n",
       "<table border=\"1\" class=\"dataframe\">\n",
       "  <thead>\n",
       "    <tr style=\"text-align: right;\">\n",
       "      <th>col_0</th>\n",
       "      <th>violation</th>\n",
       "    </tr>\n",
       "    <tr>\n",
       "      <th>district</th>\n",
       "      <th></th>\n",
       "    </tr>\n",
       "  </thead>\n",
       "  <tbody>\n",
       "    <tr>\n",
       "      <th>Zone K1</th>\n",
       "      <td>4504</td>\n",
       "    </tr>\n",
       "    <tr>\n",
       "      <th>Zone K2</th>\n",
       "      <td>9519</td>\n",
       "    </tr>\n",
       "    <tr>\n",
       "      <th>Zone K3</th>\n",
       "      <td>10721</td>\n",
       "    </tr>\n",
       "    <tr>\n",
       "      <th>Zone X1</th>\n",
       "      <td>1300</td>\n",
       "    </tr>\n",
       "    <tr>\n",
       "      <th>Zone X3</th>\n",
       "      <td>8705</td>\n",
       "    </tr>\n",
       "  </tbody>\n",
       "</table>\n",
       "</div>"
      ],
      "text/plain": [
       "col_0     violation\n",
       "district           \n",
       "Zone K1        4504\n",
       "Zone K2        9519\n",
       "Zone K3       10721\n",
       "Zone X1        1300\n",
       "Zone X3        8705"
      ]
     },
     "execution_count": 151,
     "metadata": {},
     "output_type": "execute_result"
    }
   ],
   "source": [
    "ri_freq = pd.crosstab(ri['district'], columns='violation')\n",
    "\n",
    "ri_freq.head()"
   ]
  },
  {
   "cell_type": "markdown",
   "metadata": {},
   "source": [
    "***"
   ]
  },
  {
   "cell_type": "markdown",
   "metadata": {},
   "source": [
    "## Tallying violations by district"
   ]
  },
  {
   "cell_type": "markdown",
   "metadata": {},
   "source": [
    "The state of **Rhode Island** is broken into six police districts, also known as zones. How do the zones compare in terms of what violations are caught by police?\n",
    "\n",
    "In this exercise, you'll create a frequency table to determine how many violations of each type took place in each of the six zones. Then, you'll filter the table to focus on the ``\"K\"`` zones, which you'll examine further in the next exercise."
   ]
  },
  {
   "cell_type": "markdown",
   "metadata": {},
   "source": [
    "**INSTRUCTIONS**\n",
    "\n",
    "*   Create a ``frequency table`` from the ``district`` and ``violation`` columns using the ``pd.crosstab()`` function.\n",
    "*   Save the ``frequency table`` as a new object, ``all_zones``.\n",
    "*   Select rows ``'Zone K1'`` through ``'Zone K3'`` from ``all_zones`` using the ``.loc[]`` accessor.\n",
    "*   Save the smaller table as a new object, ``k_zones``."
   ]
  },
  {
   "cell_type": "code",
   "execution_count": 171,
   "metadata": {},
   "outputs": [
    {
     "data": {
      "text/html": [
       "<div>\n",
       "<style scoped>\n",
       "    .dataframe tbody tr th:only-of-type {\n",
       "        vertical-align: middle;\n",
       "    }\n",
       "\n",
       "    .dataframe tbody tr th {\n",
       "        vertical-align: top;\n",
       "    }\n",
       "\n",
       "    .dataframe thead th {\n",
       "        text-align: right;\n",
       "    }\n",
       "</style>\n",
       "<table border=\"1\" class=\"dataframe\">\n",
       "  <thead>\n",
       "    <tr style=\"text-align: right;\">\n",
       "      <th>violation</th>\n",
       "      <th>Equipment</th>\n",
       "      <th>Moving violation</th>\n",
       "      <th>Other</th>\n",
       "      <th>Registration/plates</th>\n",
       "      <th>Seat belt</th>\n",
       "      <th>Speeding</th>\n",
       "    </tr>\n",
       "    <tr>\n",
       "      <th>district</th>\n",
       "      <th></th>\n",
       "      <th></th>\n",
       "      <th></th>\n",
       "      <th></th>\n",
       "      <th></th>\n",
       "      <th></th>\n",
       "    </tr>\n",
       "  </thead>\n",
       "  <tbody>\n",
       "    <tr>\n",
       "      <th>Zone K1</th>\n",
       "      <td>374</td>\n",
       "      <td>709</td>\n",
       "      <td>143</td>\n",
       "      <td>64</td>\n",
       "      <td>0</td>\n",
       "      <td>3214</td>\n",
       "    </tr>\n",
       "    <tr>\n",
       "      <th>Zone K2</th>\n",
       "      <td>1154</td>\n",
       "      <td>1629</td>\n",
       "      <td>488</td>\n",
       "      <td>396</td>\n",
       "      <td>293</td>\n",
       "      <td>5559</td>\n",
       "    </tr>\n",
       "    <tr>\n",
       "      <th>Zone K3</th>\n",
       "      <td>1277</td>\n",
       "      <td>1597</td>\n",
       "      <td>370</td>\n",
       "      <td>374</td>\n",
       "      <td>356</td>\n",
       "      <td>6747</td>\n",
       "    </tr>\n",
       "    <tr>\n",
       "      <th>Zone X1</th>\n",
       "      <td>163</td>\n",
       "      <td>381</td>\n",
       "      <td>84</td>\n",
       "      <td>21</td>\n",
       "      <td>45</td>\n",
       "      <td>606</td>\n",
       "    </tr>\n",
       "    <tr>\n",
       "      <th>Zone X3</th>\n",
       "      <td>1175</td>\n",
       "      <td>1647</td>\n",
       "      <td>426</td>\n",
       "      <td>329</td>\n",
       "      <td>418</td>\n",
       "      <td>4710</td>\n",
       "    </tr>\n",
       "  </tbody>\n",
       "</table>\n",
       "</div>"
      ],
      "text/plain": [
       "violation  Equipment  Moving violation  Other  Registration/plates  Seat belt  \\\n",
       "district                                                                        \n",
       "Zone K1          374               709    143                   64          0   \n",
       "Zone K2         1154              1629    488                  396        293   \n",
       "Zone K3         1277              1597    370                  374        356   \n",
       "Zone X1          163               381     84                   21         45   \n",
       "Zone X3         1175              1647    426                  329        418   \n",
       "\n",
       "violation  Speeding  \n",
       "district             \n",
       "Zone K1        3214  \n",
       "Zone K2        5559  \n",
       "Zone K3        6747  \n",
       "Zone X1         606  \n",
       "Zone X3        4710  "
      ]
     },
     "execution_count": 171,
     "metadata": {},
     "output_type": "execute_result"
    }
   ],
   "source": [
    "all_zones = pd.crosstab(ri['district'], ri['violation'])\n",
    "\n",
    "all_zones.head()"
   ]
  },
  {
   "cell_type": "code",
   "execution_count": 172,
   "metadata": {},
   "outputs": [
    {
     "data": {
      "text/html": [
       "<div>\n",
       "<style scoped>\n",
       "    .dataframe tbody tr th:only-of-type {\n",
       "        vertical-align: middle;\n",
       "    }\n",
       "\n",
       "    .dataframe tbody tr th {\n",
       "        vertical-align: top;\n",
       "    }\n",
       "\n",
       "    .dataframe thead th {\n",
       "        text-align: right;\n",
       "    }\n",
       "</style>\n",
       "<table border=\"1\" class=\"dataframe\">\n",
       "  <thead>\n",
       "    <tr style=\"text-align: right;\">\n",
       "      <th>violation</th>\n",
       "      <th>Equipment</th>\n",
       "      <th>Moving violation</th>\n",
       "      <th>Other</th>\n",
       "      <th>Registration/plates</th>\n",
       "      <th>Seat belt</th>\n",
       "      <th>Speeding</th>\n",
       "    </tr>\n",
       "    <tr>\n",
       "      <th>district</th>\n",
       "      <th></th>\n",
       "      <th></th>\n",
       "      <th></th>\n",
       "      <th></th>\n",
       "      <th></th>\n",
       "      <th></th>\n",
       "    </tr>\n",
       "  </thead>\n",
       "  <tbody>\n",
       "    <tr>\n",
       "      <th>Zone K1</th>\n",
       "      <td>374</td>\n",
       "      <td>709</td>\n",
       "      <td>143</td>\n",
       "      <td>64</td>\n",
       "      <td>0</td>\n",
       "      <td>3214</td>\n",
       "    </tr>\n",
       "    <tr>\n",
       "      <th>Zone K2</th>\n",
       "      <td>1154</td>\n",
       "      <td>1629</td>\n",
       "      <td>488</td>\n",
       "      <td>396</td>\n",
       "      <td>293</td>\n",
       "      <td>5559</td>\n",
       "    </tr>\n",
       "    <tr>\n",
       "      <th>Zone K3</th>\n",
       "      <td>1277</td>\n",
       "      <td>1597</td>\n",
       "      <td>370</td>\n",
       "      <td>374</td>\n",
       "      <td>356</td>\n",
       "      <td>6747</td>\n",
       "    </tr>\n",
       "  </tbody>\n",
       "</table>\n",
       "</div>"
      ],
      "text/plain": [
       "violation  Equipment  Moving violation  Other  Registration/plates  Seat belt  \\\n",
       "district                                                                        \n",
       "Zone K1          374               709    143                   64          0   \n",
       "Zone K2         1154              1629    488                  396        293   \n",
       "Zone K3         1277              1597    370                  374        356   \n",
       "\n",
       "violation  Speeding  \n",
       "district             \n",
       "Zone K1        3214  \n",
       "Zone K2        5559  \n",
       "Zone K3        6747  "
      ]
     },
     "execution_count": 172,
     "metadata": {},
     "output_type": "execute_result"
    }
   ],
   "source": [
    "k_zones = all_zones.loc['Zone K1':'Zone K3']\n",
    "k_zones.head()"
   ]
  },
  {
   "cell_type": "markdown",
   "metadata": {},
   "source": [
    "***"
   ]
  },
  {
   "cell_type": "markdown",
   "metadata": {},
   "source": [
    "## Plotting violations by district"
   ]
  },
  {
   "cell_type": "markdown",
   "metadata": {},
   "source": [
    "Now that you've created a frequency table focused on the ``\"K\"`` zones, you'll visualize the data to help you compare what violations are being caught in each zone.\n",
    "\n",
    "First you'll create a **bar plot**, which is an appropriate plot type since you're comparing categorical data. Then you'll create a **stacked bar plot** in order to get a slightly different look at the data. Which plot do you find to be more insightful?"
   ]
  },
  {
   "cell_type": "markdown",
   "metadata": {},
   "source": [
    "**INSTRUCTIONS 1/2**\n",
    "\n",
    "*   Create a bar plot of ``k_zones``.\n",
    "*   Display the plot and examine it. What do you notice about each of the zones?"
   ]
  },
  {
   "cell_type": "code",
   "execution_count": 234,
   "metadata": {},
   "outputs": [
    {
     "data": {
      "image/png": "[encoded data removed]",
      "text/plain": [
       "<Figure size 720x504 with 1 Axes>"
      ]
     },
     "metadata": {
      "needs_background": "light"
     },
     "output_type": "display_data"
    }
   ],
   "source": [
    "k_zones.plot.bar(figsize=(10,7))\n",
    "plt.show()"
   ]
  },
  {
   "cell_type": "markdown",
   "metadata": {},
   "source": [
    "**INSTRUCTIONS 2/2**\n",
    "\n",
    "*   Create a stacked bar plot of ``k_zones``.\n",
    "*   Display the plot and examine it. Do you notice anything different about the data than you did previously?"
   ]
  },
  {
   "cell_type": "code",
   "execution_count": 231,
   "metadata": {},
   "outputs": [
    {
     "data": {
      "image/png": "[encoded data removed]",
      "text/plain": [
       "<Figure size 576x432 with 1 Axes>"
      ]
     },
     "metadata": {
      "needs_background": "light"
     },
     "output_type": "display_data"
    }
   ],
   "source": [
    "k_zones.plot.bar(stacked=True, figsize=(8,6))\n",
    "plt.show()"
   ]
  },
  {
   "cell_type": "markdown",
   "metadata": {},
   "source": [
    "***"
   ]
  },
  {
   "cell_type": "markdown",
   "metadata": {},
   "source": [
    "## Converting stop durations to numbers"
   ]
  },
  {
   "cell_type": "markdown",
   "metadata": {},
   "source": [
    "In the traffic stops dataset, the ``stop_duration`` column tells you approximately how long the driver was detained by the officer. Unfortunately, the durations are stored as ``strings``, such as ``'0-15 Min'``. How can you make this data easier to analyze?\n",
    "\n",
    "In this exercise, you'll convert the **stop durations** to ``integers``. Because the precise durations are not available, you'll have to estimate the numbers using reasonable values:\n",
    "\n",
    "*   Convert ``'0-15 Min'`` to ``8``\n",
    "*   Convert ``'16-30 Min'`` to ``23``\n",
    "*   Convert ``'30+ Min'`` to ``45``"
   ]
  },
  {
   "cell_type": "markdown",
   "metadata": {},
   "source": [
    "**INSTRUCTIONS**\n",
    "\n",
    "*   Print the **unique values** in the ``stop_duration`` column. (This has been done for you.)\n",
    "*   Create a ``dictionary`` called ``mapping`` that maps the ``stop_duration`` strings to the integers specified above.\n",
    "*   Convert the ``stop_duration`` strings to integers using the ``mapping``, and store the results in a new column called ``stop_minutes``.\n",
    "*   Print the unique values in the ``stop_minutes`` column, to verify that the durations were properly converted to integers."
   ]
  },
  {
   "cell_type": "code",
   "execution_count": 178,
   "metadata": {},
   "outputs": [
    {
     "data": {
      "text/plain": [
       "array(['0-15 Min', '16-30 Min', '30+ Min', '1'], dtype=object)"
      ]
     },
     "execution_count": 178,
     "metadata": {},
     "output_type": "execute_result"
    }
   ],
   "source": [
    "ri['stop_duration'].unique()"
   ]
  },
  {
   "cell_type": "code",
   "execution_count": 196,
   "metadata": {},
   "outputs": [
    {
     "name": "stdout",
     "output_type": "stream",
     "text": [
      "<class 'pandas.core.frame.DataFrame'>\n",
      "DatetimeIndex: 47180 entries, 2009-02-28 11:02:00 to 2013-03-21 11:54:00\n",
      "Data columns (total 23 columns):\n",
      " #   Column              Non-Null Count  Dtype  \n",
      "---  ------              --------------  -----  \n",
      " 0   id                  47180 non-null  object \n",
      " 1   stop_date           47180 non-null  object \n",
      " 2   stop_time           47180 non-null  object \n",
      " 3   location_raw        47180 non-null  object \n",
      " 4   police_department   47180 non-null  object \n",
      " 5   driver_gender       47180 non-null  object \n",
      " 6   driver_age_raw      47180 non-null  float64\n",
      " 7   driver_age          47018 non-null  float64\n",
      " 8   driver_race_raw     47180 non-null  object \n",
      " 9   driver_race         47180 non-null  object \n",
      " 10  violation_raw       47180 non-null  object \n",
      " 11  violation           47180 non-null  object \n",
      " 12  search_conducted    47180 non-null  bool   \n",
      " 13  search_type_raw     1778 non-null   object \n",
      " 14  search_type         1778 non-null   object \n",
      " 15  contraband_found    47180 non-null  bool   \n",
      " 16  stop_outcome        47180 non-null  object \n",
      " 17  is_arrested         47180 non-null  bool   \n",
      " 18  stop_duration       47180 non-null  object \n",
      " 19  out_of_state        47102 non-null  object \n",
      " 20  drugs_related_stop  47180 non-null  bool   \n",
      " 21  district            47180 non-null  object \n",
      " 22  stop_minutes        47180 non-null  int64  \n",
      "dtypes: bool(4), float64(2), int64(1), object(16)\n",
      "memory usage: 8.6+ MB\n"
     ]
    }
   ],
   "source": [
    "dura =[]\n",
    "for i in ri['stop_duration']:\n",
    "    if i == '0-15 Min':\n",
    "        dura.append(8)\n",
    "    elif i == '16-30 Min':\n",
    "        dura.append(23)\n",
    "    elif i == '30+ Min':\n",
    "        dura.append(45)\n",
    "    else:\n",
    "        dura.append(8)\n",
    "ri['stop_minutes'] = dura\n",
    "ri.info()"
   ]
  },
  {
   "cell_type": "markdown",
   "metadata": {},
   "source": [
    "***"
   ]
  },
  {
   "cell_type": "markdown",
   "metadata": {},
   "source": [
    "## Plotting stop length"
   ]
  },
  {
   "cell_type": "raw",
   "metadata": {},
   "source": [
    "If you were stopped for a particular violation, how long might you expect to be detained?\n",
    "\n",
    "In this exercise, you'll visualize the **average length** of time drivers are stopped for each **type** of **violation**. Rather than using the ``violation`` column in this exercise, you'll use ``violation_raw`` since it contains more detailed descriptions of the violations."
   ]
  },
  {
   "cell_type": "markdown",
   "metadata": {},
   "source": [
    "**INSTRUCTIONS**\n",
    "\n",
    "*   For each value in the ``violation_raw`` column, calculate the **mean number** of ``stop_minutes`` that a driver is detained.\n",
    "*   Save the resulting ``Series`` as a new object, ``stop_length``.\n",
    "*   Sort ``stop_length`` by its values, and then visualize it using a **horizontal bar plot**.\n",
    "*   Display the plot."
   ]
  },
  {
   "cell_type": "code",
   "execution_count": 219,
   "metadata": {},
   "outputs": [
    {
     "data": {
      "text/plain": [
       "violation_raw\n",
       "APB                                 16.183673\n",
       "Call for Service                    22.508065\n",
       "Equipment/Inspection Violation      11.530556\n",
       "Motorist Assist/Courtesy            18.876106\n",
       "Other Traffic Violation             13.796369\n",
       "Registration Violation              13.822556\n",
       "Seatbelt Violation                   9.731123\n",
       "Special Detail/Directed Patrol      14.901845\n",
       "Speeding                            10.600329\n",
       "Suspicious Person                   22.071429\n",
       "Violation of City/Town Ordinance    13.615385\n",
       "Warrant                             18.250000\n",
       "Name: stop_minutes, dtype: float64"
      ]
     },
     "execution_count": 219,
     "metadata": {},
     "output_type": "execute_result"
    }
   ],
   "source": [
    "stop_length = ri.groupby('violation_raw')['stop_minutes'].mean()\n",
    "stop_length"
   ]
  },
  {
   "cell_type": "code",
   "execution_count": 229,
   "metadata": {},
   "outputs": [
    {
     "data": {
      "image/png": "[encoded data removed]",
      "text/plain": [
       "<Figure size 576x432 with 1 Axes>"
      ]
     },
     "metadata": {
      "needs_background": "light"
     },
     "output_type": "display_data"
    }
   ],
   "source": [
    "fig_stp = stop_length.plot.barh(x='stop_length', y='violation_raw', title='Average Detaining Time by Violation', figsize=(8,6))\n",
    "fig_stp.set_xlabel('Minutes')\n",
    "plt.show()"
   ]
  },
  {
   "cell_type": "code",
   "execution_count": null,
   "metadata": {},
   "outputs": [],
   "source": []
  }
 ],
 "metadata": {
  "kernelspec": {
   "display_name": "Python 3",
   "language": "python",
   "name": "python3"
  },
  "language_info": {
   "codemirror_mode": {
    "name": "ipython",
    "version": 3
   },
   "file_extension": ".py",
   "mimetype": "text/x-python",
   "name": "python",
   "nbconvert_exporter": "python",
   "pygments_lexer": "ipython3",
   "version": "3.7.6"
  }
 },
 "nbformat": 4,
 "nbformat_minor": 4
}
